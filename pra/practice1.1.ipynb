{
  "nbformat": 4,
  "nbformat_minor": 0,
  "metadata": {
    "colab": {
      "name": "Untitled2.ipynb",
      "provenance": []
    },
    "kernelspec": {
      "name": "python3",
      "display_name": "Python 3"
    },
    "language_info": {
      "name": "python"
    }
  },
  "cells": [
    {
      "cell_type": "markdown",
      "source": [
        "Dictionary/Maps/Hash Tables"
      ],
      "metadata": {
        "id": "KPpAgvCSkLtE"
      }
    },
    {
      "cell_type": "code",
      "source": [
        "d={'jarin':85 ,'mimi':70 , 'timi':90}\n",
        "print(d)"
      ],
      "metadata": {
        "colab": {
          "base_uri": "https://localhost:8080/"
        },
        "id": "z6zO0Ex0kaQ5",
        "outputId": "e652b33c-0fe4-49b8-fe5c-a4b27dde2585"
      },
      "execution_count": 1,
      "outputs": [
        {
          "output_type": "stream",
          "name": "stdout",
          "text": [
            "{'jarin': 85, 'mimi': 70, 'timi': 90}\n"
          ]
        }
      ]
    },
    {
      "cell_type": "code",
      "source": [
        "d['jarin']"
      ],
      "metadata": {
        "colab": {
          "base_uri": "https://localhost:8080/"
        },
        "id": "TjLoF1Rsoh9R",
        "outputId": "200f6d2b-8416-47b5-c4c6-0046373bc5d1"
      },
      "execution_count": 2,
      "outputs": [
        {
          "output_type": "execute_result",
          "data": {
            "text/plain": [
              "85"
            ]
          },
          "metadata": {},
          "execution_count": 2
        }
      ]
    },
    {
      "cell_type": "code",
      "source": [
        "d.get('mimi')"
      ],
      "metadata": {
        "colab": {
          "base_uri": "https://localhost:8080/"
        },
        "id": "cF1JMKSJoq5A",
        "outputId": "4d746912-3195-41a2-d324-10f60c8e3d49"
      },
      "execution_count": 3,
      "outputs": [
        {
          "output_type": "execute_result",
          "data": {
            "text/plain": [
              "70"
            ]
          },
          "metadata": {},
          "execution_count": 3
        }
      ]
    },
    {
      "cell_type": "code",
      "source": [
        "d.get('roe',0) "
      ],
      "metadata": {
        "colab": {
          "base_uri": "https://localhost:8080/"
        },
        "id": "_L8WhTDeoues",
        "outputId": "afed6a2c-aff4-4aee-f164-ffa96a1b163f"
      },
      "execution_count": 5,
      "outputs": [
        {
          "output_type": "execute_result",
          "data": {
            "text/plain": [
              "0"
            ]
          },
          "metadata": {},
          "execution_count": 5
        }
      ]
    },
    {
      "cell_type": "code",
      "source": [
        "d.get('timi',0)"
      ],
      "metadata": {
        "colab": {
          "base_uri": "https://localhost:8080/"
        },
        "id": "ZieupyHvpLIk",
        "outputId": "47052563-51cc-4293-c82d-6b5572aa63bc"
      },
      "execution_count": 6,
      "outputs": [
        {
          "output_type": "execute_result",
          "data": {
            "text/plain": [
              "90"
            ]
          },
          "metadata": {},
          "execution_count": 6
        }
      ]
    },
    {
      "cell_type": "code",
      "source": [
        "d.keys()"
      ],
      "metadata": {
        "colab": {
          "base_uri": "https://localhost:8080/"
        },
        "id": "YYVwntm4pbMk",
        "outputId": "76a89c6a-ca49-443b-b628-dcd5d4c95586"
      },
      "execution_count": 7,
      "outputs": [
        {
          "output_type": "execute_result",
          "data": {
            "text/plain": [
              "dict_keys(['jarin', 'mimi', 'timi'])"
            ]
          },
          "metadata": {},
          "execution_count": 7
        }
      ]
    },
    {
      "cell_type": "code",
      "source": [
        "d.values()"
      ],
      "metadata": {
        "colab": {
          "base_uri": "https://localhost:8080/"
        },
        "id": "MaVvexX4phKb",
        "outputId": "8153a949-dc41-47c8-a660-e0094561e578"
      },
      "execution_count": 8,
      "outputs": [
        {
          "output_type": "execute_result",
          "data": {
            "text/plain": [
              "dict_values([85, 70, 90])"
            ]
          },
          "metadata": {},
          "execution_count": 8
        }
      ]
    },
    {
      "cell_type": "code",
      "source": [
        "dic={'person': 2 ,'cat' : 4, 'dog': 4, 'spider':8}\n",
        "print(dic)"
      ],
      "metadata": {
        "colab": {
          "base_uri": "https://localhost:8080/"
        },
        "id": "xChe0yISprcp",
        "outputId": "92b34b8e-61c6-471e-eb13-14a8fa48ac2d"
      },
      "execution_count": 9,
      "outputs": [
        {
          "output_type": "stream",
          "name": "stdout",
          "text": [
            "{'person': 2, 'cat': 4, 'dog': 4, 'spider': 8}\n"
          ]
        }
      ]
    },
    {
      "cell_type": "code",
      "source": [
        "for i in dic :\n",
        "      print(i)"
      ],
      "metadata": {
        "colab": {
          "base_uri": "https://localhost:8080/"
        },
        "id": "iTBoplqJqM9c",
        "outputId": "42d44643-6e27-49e7-8082-9fc679909328"
      },
      "execution_count": 12,
      "outputs": [
        {
          "output_type": "stream",
          "name": "stdout",
          "text": [
            "person\n",
            "cat\n",
            "dog\n",
            "spider\n"
          ]
        }
      ]
    },
    {
      "cell_type": "code",
      "source": [
        "for i in dic :\n",
        "     v=dic[i]\n",
        "     print(f'{i}has {v} legs')"
      ],
      "metadata": {
        "colab": {
          "base_uri": "https://localhost:8080/"
        },
        "id": "g0SxmxMGqRi4",
        "outputId": "fea15d9f-27fa-49d3-854b-742365fc78b6"
      },
      "execution_count": 17,
      "outputs": [
        {
          "output_type": "stream",
          "name": "stdout",
          "text": [
            "personhas 2 legs\n",
            "cathas 4 legs\n",
            "doghas 4 legs\n",
            "spiderhas 8 legs\n"
          ]
        }
      ]
    },
    {
      "cell_type": "code",
      "source": [
        "for i,v in dic.items():\n",
        "  print(f\"{i} has {v}\")"
      ],
      "metadata": {
        "colab": {
          "base_uri": "https://localhost:8080/"
        },
        "id": "AVupEtvQqnCr",
        "outputId": "4f500f3b-1d83-4fa8-cd58-0d36c6c9e560"
      },
      "execution_count": 18,
      "outputs": [
        {
          "output_type": "stream",
          "name": "stdout",
          "text": [
            "person has 2\n",
            "cat has 4\n",
            "dog has 4\n",
            "spider has 8\n"
          ]
        }
      ]
    },
    {
      "cell_type": "code",
      "source": [
        " a =[1,2,3,4,5,5,6,7,8,9]\n",
        "print(a)"
      ],
      "metadata": {
        "colab": {
          "base_uri": "https://localhost:8080/"
        },
        "id": "ZQKSFVoIrHpp",
        "outputId": "b0bf73d1-c533-497b-82f7-664c4630e3a5"
      },
      "execution_count": 19,
      "outputs": [
        {
          "output_type": "stream",
          "name": "stdout",
          "text": [
            "[1, 2, 3, 4, 5, 5, 6, 7, 8, 9]\n"
          ]
        }
      ]
    },
    {
      "cell_type": "code",
      "source": [
        "a[0:5]"
      ],
      "metadata": {
        "colab": {
          "base_uri": "https://localhost:8080/"
        },
        "id": "nAvZ8-vOrkYP",
        "outputId": "819e0d7b-0120-49da-8f7d-2e1deebce965"
      },
      "execution_count": 20,
      "outputs": [
        {
          "output_type": "execute_result",
          "data": {
            "text/plain": [
              "[1, 2, 3, 4, 5]"
            ]
          },
          "metadata": {},
          "execution_count": 20
        }
      ]
    },
    {
      "cell_type": "code",
      "source": [
        "a[:]"
      ],
      "metadata": {
        "colab": {
          "base_uri": "https://localhost:8080/"
        },
        "id": "FHEEmln8rpAT",
        "outputId": "7a50f369-424c-46e7-b9ac-34956405c43c"
      },
      "execution_count": 21,
      "outputs": [
        {
          "output_type": "execute_result",
          "data": {
            "text/plain": [
              "[1, 2, 3, 4, 5, 5, 6, 7, 8, 9]"
            ]
          },
          "metadata": {},
          "execution_count": 21
        }
      ]
    },
    {
      "cell_type": "code",
      "source": [
        "a[:5]"
      ],
      "metadata": {
        "colab": {
          "base_uri": "https://localhost:8080/"
        },
        "id": "M0VDx0UgrtgR",
        "outputId": "3d3dded0-6f7f-4dd0-97ab-71c89af6d4a3"
      },
      "execution_count": 22,
      "outputs": [
        {
          "output_type": "execute_result",
          "data": {
            "text/plain": [
              "[1, 2, 3, 4, 5]"
            ]
          },
          "metadata": {},
          "execution_count": 22
        }
      ]
    },
    {
      "cell_type": "code",
      "source": [
        "a[3:]"
      ],
      "metadata": {
        "colab": {
          "base_uri": "https://localhost:8080/"
        },
        "id": "sAVFsxtmr5s7",
        "outputId": "168c2c22-cc56-470a-9681-4bfb4fadfdf1"
      },
      "execution_count": 23,
      "outputs": [
        {
          "output_type": "execute_result",
          "data": {
            "text/plain": [
              "[4, 5, 5, 6, 7, 8, 9]"
            ]
          },
          "metadata": {},
          "execution_count": 23
        }
      ]
    },
    {
      "cell_type": "code",
      "source": [
        "a[:-1]"
      ],
      "metadata": {
        "colab": {
          "base_uri": "https://localhost:8080/"
        },
        "id": "FkHiPDgKr9Pz",
        "outputId": "1b48c143-48a8-4b7f-a03f-ea3dec15b588"
      },
      "execution_count": 24,
      "outputs": [
        {
          "output_type": "execute_result",
          "data": {
            "text/plain": [
              "[1, 2, 3, 4, 5, 5, 6, 7, 8]"
            ]
          },
          "metadata": {},
          "execution_count": 24
        }
      ]
    },
    {
      "cell_type": "code",
      "source": [
        "# b=[]\n",
        "# for i in a:\n",
        "#    b.append(i)\n",
        "# print(b)\n",
        "#we have to avoid this code\n",
        "\n",
        "\n",
        "c=[i for i in a]\n",
        "print(c)"
      ],
      "metadata": {
        "colab": {
          "base_uri": "https://localhost:8080/"
        },
        "id": "_rwFuh1TsCBR",
        "outputId": "d248636e-2afa-4cf8-f13b-9375a998633a"
      },
      "execution_count": 29,
      "outputs": [
        {
          "output_type": "stream",
          "name": "stdout",
          "text": [
            "[1, 2, 3, 4, 5, 5, 6, 7, 8, 9]\n"
          ]
        }
      ]
    },
    {
      "cell_type": "code",
      "source": [
        "sq=[i**2 for i in a]\n",
        "print(sq)"
      ],
      "metadata": {
        "colab": {
          "base_uri": "https://localhost:8080/"
        },
        "id": "GDMCi-80sg6C",
        "outputId": "3026b2ed-54e9-4877-e1a7-de29a6727ffa"
      },
      "execution_count": 32,
      "outputs": [
        {
          "output_type": "stream",
          "name": "stdout",
          "text": [
            "[1, 4, 9, 16, 25, 25, 36, 49, 64, 81]\n"
          ]
        }
      ]
    },
    {
      "cell_type": "code",
      "source": [
        "sq_even =[i**2 for i in a if i%2==0]\n",
        "print(sq_even )"
      ],
      "metadata": {
        "colab": {
          "base_uri": "https://localhost:8080/"
        },
        "id": "LMLfqz_MtRh0",
        "outputId": "8f034759-69a1-4ec3-adc6-e176ac5d019b"
      },
      "execution_count": 34,
      "outputs": [
        {
          "output_type": "stream",
          "name": "stdout",
          "text": [
            "[4, 16, 36, 64]\n"
          ]
        }
      ]
    },
    {
      "cell_type": "code",
      "source": [
        "sq_odd=[i**2 for i in a if i%2!=0]\n",
        "print(sq_odd)"
      ],
      "metadata": {
        "colab": {
          "base_uri": "https://localhost:8080/"
        },
        "id": "U8woisVetkIW",
        "outputId": "d5d11a90-c995-496d-b01e-28964fbf4961"
      },
      "execution_count": 35,
      "outputs": [
        {
          "output_type": "stream",
          "name": "stdout",
          "text": [
            "[1, 9, 25, 25, 49, 81]\n"
          ]
        }
      ]
    },
    {
      "cell_type": "code",
      "source": [
        "di={(a,a):[a,a**2] for a in range(10)}\n",
        "print(di)"
      ],
      "metadata": {
        "colab": {
          "base_uri": "https://localhost:8080/"
        },
        "id": "MmOWzCMWuFeJ",
        "outputId": "90d7a94c-715a-49be-b45c-bf754f73ddcc"
      },
      "execution_count": 36,
      "outputs": [
        {
          "output_type": "stream",
          "name": "stdout",
          "text": [
            "{(0, 0): [0, 0], (1, 1): [1, 1], (2, 2): [2, 4], (3, 3): [3, 9], (4, 4): [4, 16], (5, 5): [5, 25], (6, 6): [6, 36], (7, 7): [7, 49], (8, 8): [8, 64], (9, 9): [9, 81]}\n"
          ]
        }
      ]
    },
    {
      "cell_type": "code",
      "source": [
        "di[(5,5)]"
      ],
      "metadata": {
        "colab": {
          "base_uri": "https://localhost:8080/"
        },
        "id": "VBTRKWcoukpx",
        "outputId": "2107707d-4d1b-4501-a797-6d438082a539"
      },
      "execution_count": 37,
      "outputs": [
        {
          "output_type": "execute_result",
          "data": {
            "text/plain": [
              "[5, 25]"
            ]
          },
          "metadata": {},
          "execution_count": 37
        }
      ]
    },
    {
      "cell_type": "code",
      "source": [
        ""
      ],
      "metadata": {
        "id": "eR5X8WS7vbWb"
      },
      "execution_count": null,
      "outputs": []
    }
  ]
}