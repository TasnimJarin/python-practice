{
  "nbformat": 4,
  "nbformat_minor": 0,
  "metadata": {
    "colab": {
      "name": "Practice1.ipynb",
      "provenance": [],
      "collapsed_sections": []
    },
    "kernelspec": {
      "name": "python3",
      "display_name": "Python 3"
    },
    "language_info": {
      "name": "python"
    }
  },
  "cells": [
    {
      "cell_type": "code",
      "execution_count": 3,
      "metadata": {
        "colab": {
          "base_uri": "https://localhost:8080/"
        },
        "id": "LCF65l9pIihA",
        "outputId": "d005b064-1c27-48c6-ad49-319d3563b710"
      },
      "outputs": [
        {
          "output_type": "stream",
          "name": "stdout",
          "text": [
            "5\n",
            "2.4\n"
          ]
        }
      ],
      "source": [
        "a=5\n",
        "b=2.4\n",
        "print(a)\n",
        "print(b)"
      ]
    },
    {
      "cell_type": "code",
      "source": [
        "print(type(a))\n",
        "print(type(b))"
      ],
      "metadata": {
        "colab": {
          "base_uri": "https://localhost:8080/"
        },
        "id": "Ubh27a1PIpUq",
        "outputId": "13ce4029-f0ac-4c1c-ad34-80b8684a4296"
      },
      "execution_count": 4,
      "outputs": [
        {
          "output_type": "stream",
          "name": "stdout",
          "text": [
            "<class 'int'>\n",
            "<class 'float'>\n"
          ]
        }
      ]
    },
    {
      "cell_type": "code",
      "source": [
        "#increment\n",
        "a +=1\n",
        "print(a)"
      ],
      "metadata": {
        "colab": {
          "base_uri": "https://localhost:8080/"
        },
        "id": "McXzuwfDIux5",
        "outputId": "af4dcad0-46fd-4d36-bedc-f37a55a8978a"
      },
      "execution_count": 6,
      "outputs": [
        {
          "output_type": "stream",
          "name": "stdout",
          "text": [
            "7\n"
          ]
        }
      ]
    },
    {
      "cell_type": "code",
      "source": [
        "a *=2\n",
        "print(a)"
      ],
      "metadata": {
        "colab": {
          "base_uri": "https://localhost:8080/"
        },
        "id": "dkwaxNPKI94G",
        "outputId": "36caebb5-2e3b-4d17-f1a1-1fe51f7623b0"
      },
      "execution_count": 8,
      "outputs": [
        {
          "output_type": "stream",
          "name": "stdout",
          "text": [
            "28\n"
          ]
        }
      ]
    },
    {
      "cell_type": "code",
      "source": [
        "c=b/2  #division\n",
        "print(c)\n",
        "d=b//2  #without fraction  \n",
        "print(d)\n"
      ],
      "metadata": {
        "colab": {
          "base_uri": "https://localhost:8080/"
        },
        "id": "CjRnNbu7JFXf",
        "outputId": "f658f94c-e58b-44ea-9d50-4118811d75ec"
      },
      "execution_count": 9,
      "outputs": [
        {
          "output_type": "stream",
          "name": "stdout",
          "text": [
            "1.2\n",
            "1.0\n"
          ]
        }
      ]
    },
    {
      "cell_type": "code",
      "source": [
        "print(\"hello everyone!\")"
      ],
      "metadata": {
        "colab": {
          "base_uri": "https://localhost:8080/"
        },
        "id": "0W7QQlopJS3I",
        "outputId": "5dda27cd-61e0-40a0-add9-2de2736817f3"
      },
      "execution_count": 10,
      "outputs": [
        {
          "output_type": "stream",
          "name": "stdout",
          "text": [
            "hello everyone!\n"
          ]
        }
      ]
    },
    {
      "cell_type": "code",
      "source": [
        "print(\"\"\"\n",
        "       Hey my name is Tasnim Jarin.\n",
        "       Can you help me to develop my programming skill?\n",
        "\n",
        "\"\"\")"
      ],
      "metadata": {
        "colab": {
          "base_uri": "https://localhost:8080/"
        },
        "id": "DAjw6aAQLHwH",
        "outputId": "8a9f9e60-e4a3-4ab3-d495-1e9a2c4427b9"
      },
      "execution_count": 11,
      "outputs": [
        {
          "output_type": "stream",
          "name": "stdout",
          "text": [
            "\n",
            "       Hey my name is Tasnim Jarin.\n",
            "       Can you help me to develop my programming skill?\n",
            "\n",
            "\n"
          ]
        }
      ]
    },
    {
      "cell_type": "code",
      "source": [
        "#f string formate for print\n",
        "A=23\n",
        "B=43\n",
        "print(f'The value of A is {A}')\n",
        "print(f'The value of A & B = {A} & {B}')"
      ],
      "metadata": {
        "colab": {
          "base_uri": "https://localhost:8080/"
        },
        "id": "hd6Zg9XSLYUU",
        "outputId": "2f6bac0f-9653-40d1-d24e-dd43670b1229"
      },
      "execution_count": 14,
      "outputs": [
        {
          "output_type": "stream",
          "name": "stdout",
          "text": [
            "The value of A is 23\n",
            "The value of A & B = 23 & 43\n"
          ]
        }
      ]
    },
    {
      "cell_type": "code",
      "source": [
        "print('The value of A is {}'.format(A))\n",
        "print('The value of A & B =>{} & {}'.format(A,B))"
      ],
      "metadata": {
        "colab": {
          "base_uri": "https://localhost:8080/"
        },
        "id": "6RRqR4w3L20R",
        "outputId": "5f7f06b2-6628-441d-87ff-1f54033715c1"
      },
      "execution_count": 34,
      "outputs": [
        {
          "output_type": "stream",
          "name": "stdout",
          "text": [
            "The value of A is 23\n",
            "The value of A & B =>23 & 43\n"
          ]
        }
      ]
    },
    {
      "cell_type": "code",
      "source": [
        "print(\"the value of A =>\"+str(A))"
      ],
      "metadata": {
        "colab": {
          "base_uri": "https://localhost:8080/"
        },
        "id": "bQvH24ZjM3SR",
        "outputId": "7c0f051e-1e77-4d1e-d838-57e9e61cb005"
      },
      "execution_count": 33,
      "outputs": [
        {
          "output_type": "stream",
          "name": "stdout",
          "text": [
            "the value of A =>23\n"
          ]
        }
      ]
    },
    {
      "cell_type": "code",
      "source": [
        "q=2\n",
        "p=3\n",
        "if q==3:\n",
        "   print(\"true\")\n",
        "else:\n",
        "   print(\"false\")\n",
        "\n",
        "    "
      ],
      "metadata": {
        "colab": {
          "base_uri": "https://localhost:8080/"
        },
        "id": "oGBijuvtOZ7X",
        "outputId": "0b34b59a-8181-4c44-effb-f097dd171f2b"
      },
      "execution_count": 37,
      "outputs": [
        {
          "output_type": "stream",
          "name": "stdout",
          "text": [
            "false\n"
          ]
        }
      ]
    },
    {
      "cell_type": "code",
      "source": [
        "aa=2\n",
        "bb=4\n",
        "if aa==2:\n",
        "  print(2)\n",
        "  if bb==3:\n",
        "    print(3)\n",
        "  elif bb==7:\n",
        "    print(7)\n",
        "  elif bb==4:\n",
        "    print(4)\n",
        "  else:\n",
        "    print('do not know')\n",
        "else:\n",
        "  print(\"done\")"
      ],
      "metadata": {
        "colab": {
          "base_uri": "https://localhost:8080/"
        },
        "id": "SEeeDJgfO3cB",
        "outputId": "f1644f9d-cb5d-4ec1-90e9-ac0a07b62f05"
      },
      "execution_count": 38,
      "outputs": [
        {
          "output_type": "stream",
          "name": "stdout",
          "text": [
            "2\n",
            "4\n"
          ]
        }
      ]
    },
    {
      "cell_type": "code",
      "source": [
        "#range(start=0,end(n-1),inc/dec=1)\n",
        "for i in range(10):\n",
        "  print(i)\n"
      ],
      "metadata": {
        "colab": {
          "base_uri": "https://localhost:8080/"
        },
        "id": "85kHGmJ1QRH-",
        "outputId": "675d4212-19ca-4313-d62e-3e6187393ed7"
      },
      "execution_count": 39,
      "outputs": [
        {
          "output_type": "stream",
          "name": "stdout",
          "text": [
            "0\n",
            "1\n",
            "2\n",
            "3\n",
            "4\n",
            "5\n",
            "6\n",
            "7\n",
            "8\n",
            "9\n"
          ]
        }
      ]
    },
    {
      "cell_type": "code",
      "source": [
        "for i in range(5,15):\n",
        "  print(i)"
      ],
      "metadata": {
        "colab": {
          "base_uri": "https://localhost:8080/"
        },
        "id": "By2p8rlFQenq",
        "outputId": "af2b6a75-992f-4d6f-9834-d68af740cbcb"
      },
      "execution_count": 40,
      "outputs": [
        {
          "output_type": "stream",
          "name": "stdout",
          "text": [
            "5\n",
            "6\n",
            "7\n",
            "8\n",
            "9\n",
            "10\n",
            "11\n",
            "12\n",
            "13\n",
            "14\n"
          ]
        }
      ]
    },
    {
      "cell_type": "code",
      "source": [
        "for i in range(10,0,-2):\n",
        "  print(i, end='  ')"
      ],
      "metadata": {
        "colab": {
          "base_uri": "https://localhost:8080/"
        },
        "id": "SStwLYUgQrrl",
        "outputId": "e7a1b380-ccbb-4e93-c5b1-a429301c34d7"
      },
      "execution_count": 52,
      "outputs": [
        {
          "output_type": "stream",
          "name": "stdout",
          "text": [
            "10  8  6  4  2  "
          ]
        }
      ]
    },
    {
      "cell_type": "markdown",
      "source": [
        "**LIST**"
      ],
      "metadata": {
        "id": "Ro15VYEgexKy"
      }
    },
    {
      "cell_type": "code",
      "source": [
        "#list\n",
        "lst=['a',1,3,2.4,'me']\n",
        "print(type(lst))\n",
        "print(lst)"
      ],
      "metadata": {
        "colab": {
          "base_uri": "https://localhost:8080/"
        },
        "id": "7OuZoZtIS3sJ",
        "outputId": "57fa3783-d0ea-42af-c769-8cb38ba4f7a5"
      },
      "execution_count": 75,
      "outputs": [
        {
          "output_type": "stream",
          "name": "stdout",
          "text": [
            "<class 'list'>\n",
            "['a', 1, 3, 2.4, 'me']\n"
          ]
        }
      ]
    },
    {
      "cell_type": "code",
      "source": [
        "print(lst[0])\n",
        "print(lst[2])"
      ],
      "metadata": {
        "colab": {
          "base_uri": "https://localhost:8080/"
        },
        "id": "p0zMpQHfUb2y",
        "outputId": "76337980-f621-4540-90ca-b25eb7544c2a"
      },
      "execution_count": 76,
      "outputs": [
        {
          "output_type": "stream",
          "name": "stdout",
          "text": [
            "a\n",
            "3\n"
          ]
        }
      ]
    },
    {
      "cell_type": "code",
      "source": [
        "for i in lst:\n",
        "  print(i)"
      ],
      "metadata": {
        "colab": {
          "base_uri": "https://localhost:8080/"
        },
        "id": "1iND5lqiVC8D",
        "outputId": "b257b800-e0f8-46a2-961d-3b98943d8e84"
      },
      "execution_count": 77,
      "outputs": [
        {
          "output_type": "stream",
          "name": "stdout",
          "text": [
            "a\n",
            "1\n",
            "3\n",
            "2.4\n",
            "me\n"
          ]
        }
      ]
    },
    {
      "cell_type": "code",
      "source": [
        "for i,v in enumerate(lst):\n",
        "  print(f'{i} : {v}')"
      ],
      "metadata": {
        "colab": {
          "base_uri": "https://localhost:8080/"
        },
        "id": "XmjmgfemVGbW",
        "outputId": "4ed40f67-1cc5-4290-886f-8148248ef07a"
      },
      "execution_count": 78,
      "outputs": [
        {
          "output_type": "stream",
          "name": "stdout",
          "text": [
            "0 : a\n",
            "1 : 1\n",
            "2 : 3\n",
            "3 : 2.4\n",
            "4 : me\n"
          ]
        }
      ]
    },
    {
      "cell_type": "code",
      "source": [
        "lst.append(33)\n",
        "print(lst)"
      ],
      "metadata": {
        "colab": {
          "base_uri": "https://localhost:8080/"
        },
        "id": "E39_XzKtWG6A",
        "outputId": "19651dfb-59ce-4f42-dab9-13f7e2ad1032"
      },
      "execution_count": 79,
      "outputs": [
        {
          "output_type": "stream",
          "name": "stdout",
          "text": [
            "['a', 1, 3, 2.4, 'me', 33]\n"
          ]
        }
      ]
    },
    {
      "cell_type": "code",
      "source": [
        "lst.insert(0,22)\n",
        "print(lst)"
      ],
      "metadata": {
        "colab": {
          "base_uri": "https://localhost:8080/"
        },
        "id": "UV8qsj1lZy5n",
        "outputId": "3f5021fd-3b57-4145-a02f-29e5208af5aa"
      },
      "execution_count": 80,
      "outputs": [
        {
          "output_type": "stream",
          "name": "stdout",
          "text": [
            "[22, 'a', 1, 3, 2.4, 'me', 33]\n"
          ]
        }
      ]
    },
    {
      "cell_type": "code",
      "source": [
        "lst.remove(33)\n",
        "print(lst)"
      ],
      "metadata": {
        "colab": {
          "base_uri": "https://localhost:8080/"
        },
        "id": "lqvV6axXb97u",
        "outputId": "747eef25-9a5c-4519-bb92-858f8fe85ce4"
      },
      "execution_count": 81,
      "outputs": [
        {
          "output_type": "stream",
          "name": "stdout",
          "text": [
            "[22, 'a', 1, 3, 2.4, 'me']\n"
          ]
        }
      ]
    },
    {
      "cell_type": "code",
      "source": [
        "del lst[2]\n",
        "print(lst)"
      ],
      "metadata": {
        "colab": {
          "base_uri": "https://localhost:8080/"
        },
        "id": "UbFtv2sYciz7",
        "outputId": "c72198c1-c434-41e1-ca56-f0ee2207c9c5"
      },
      "execution_count": 82,
      "outputs": [
        {
          "output_type": "stream",
          "name": "stdout",
          "text": [
            "[22, 'a', 3, 2.4, 'me']\n"
          ]
        }
      ]
    },
    {
      "cell_type": "code",
      "source": [
        "l=[\n",
        "   [\"meem\",\"jarin\",\"Sara\",\"shan\",\"zara\"],\n",
        "   [1,2,3,4,5,7],\n",
        "   [\"a\",\"b\",\"c\"]\n",
        "]\n",
        "print(l)"
      ],
      "metadata": {
        "colab": {
          "base_uri": "https://localhost:8080/"
        },
        "id": "6eynl0KncmEl",
        "outputId": "012b30b9-ce22-4e4b-a1cd-d30ec7d5a036"
      },
      "execution_count": 84,
      "outputs": [
        {
          "output_type": "stream",
          "name": "stdout",
          "text": [
            "[['meem', 'jarin', 'Sara', 'shan', 'zara'], [1, 2, 3, 4, 5, 7], ['a', 'b', 'c']]\n"
          ]
        }
      ]
    },
    {
      "cell_type": "code",
      "source": [
        "print(l[1][1])\n",
        "print(l[2][1])"
      ],
      "metadata": {
        "colab": {
          "base_uri": "https://localhost:8080/"
        },
        "id": "GZ4eijN2c8zw",
        "outputId": "6d73ffa2-25b4-4f3d-9193-e4c1981a52cc"
      },
      "execution_count": 86,
      "outputs": [
        {
          "output_type": "stream",
          "name": "stdout",
          "text": [
            "2\n",
            "b\n"
          ]
        }
      ]
    },
    {
      "cell_type": "code",
      "source": [
        "l.append(l[2][0])"
      ],
      "metadata": {
        "id": "LCb7s_lrdLsS"
      },
      "execution_count": 87,
      "outputs": []
    },
    {
      "cell_type": "code",
      "source": [
        "print(l)\n"
      ],
      "metadata": {
        "colab": {
          "base_uri": "https://localhost:8080/"
        },
        "id": "DSM_J_57dd4V",
        "outputId": "daae4667-f3b7-4a3e-9db7-2770da811fa1"
      },
      "execution_count": 88,
      "outputs": [
        {
          "output_type": "stream",
          "name": "stdout",
          "text": [
            "[['meem', 'jarin', 'Sara', 'shan', 'zara'], [1, 2, 3, 4, 5, 7], ['a', 'b', 'c'], 'a']\n"
          ]
        }
      ]
    },
    {
      "cell_type": "code",
      "source": [
        "\n",
        "l[1][2]=43\n",
        "print(l)"
      ],
      "metadata": {
        "colab": {
          "base_uri": "https://localhost:8080/"
        },
        "id": "yNDnUs8QdhUZ",
        "outputId": "c81ac47d-0955-4fc2-c196-e032a046bbe6"
      },
      "execution_count": 89,
      "outputs": [
        {
          "output_type": "stream",
          "name": "stdout",
          "text": [
            "[['meem', 'jarin', 'Sara', 'shan', 'zara'], [1, 2, 43, 4, 5, 7], ['a', 'b', 'c'], 'a']\n"
          ]
        }
      ]
    },
    {
      "cell_type": "markdown",
      "source": [
        "**Tuple**"
      ],
      "metadata": {
        "id": "E9QBJFYjerWY"
      }
    },
    {
      "cell_type": "code",
      "source": [
        "#tuple\n",
        "\n",
        "t=(3.3,4,'a')\n",
        "print(t)"
      ],
      "metadata": {
        "colab": {
          "base_uri": "https://localhost:8080/"
        },
        "id": "pDde_oTNdwKf",
        "outputId": "bc447dfa-fda3-4e79-f037-d76a58fb9b17"
      },
      "execution_count": 90,
      "outputs": [
        {
          "output_type": "stream",
          "name": "stdout",
          "text": [
            "(3.3, 4, 'a')\n"
          ]
        }
      ]
    },
    {
      "cell_type": "code",
      "source": [
        "#tuple is immutable.Can't change .\n",
        "t[2]"
      ],
      "metadata": {
        "colab": {
          "base_uri": "https://localhost:8080/",
          "height": 35
        },
        "id": "-aXTu8S0d9jX",
        "outputId": "9ac06bac-ae2e-40ab-cf68-624440780d61"
      },
      "execution_count": 91,
      "outputs": [
        {
          "output_type": "execute_result",
          "data": {
            "text/plain": [
              "'a'"
            ],
            "application/vnd.google.colaboratory.intrinsic+json": {
              "type": "string"
            }
          },
          "metadata": {},
          "execution_count": 91
        }
      ]
    },
    {
      "cell_type": "markdown",
      "source": [
        "**Set**"
      ],
      "metadata": {
        "id": "68dxmHySel0l"
      }
    },
    {
      "cell_type": "code",
      "source": [
        "D={\"MBA\",\"BBA\",\"LLB\",\"CSE\"}\n",
        "print(D)"
      ],
      "metadata": {
        "colab": {
          "base_uri": "https://localhost:8080/"
        },
        "id": "0MhEvjcBeksd",
        "outputId": "3a3c7d09-e073-420f-e2e9-b812173779a1"
      },
      "execution_count": 93,
      "outputs": [
        {
          "output_type": "stream",
          "name": "stdout",
          "text": [
            "{'MBA', 'LLB', 'CSE', 'BBA'}\n"
          ]
        }
      ]
    },
    {
      "cell_type": "code",
      "source": [
        "D.add(\"EEE\")\n",
        "print(D)"
      ],
      "metadata": {
        "colab": {
          "base_uri": "https://localhost:8080/"
        },
        "id": "bs9RJrtcfLZ_",
        "outputId": "f008ffb7-fedb-4a60-fc0a-004fdd81c533"
      },
      "execution_count": 94,
      "outputs": [
        {
          "output_type": "stream",
          "name": "stdout",
          "text": [
            "{'MBA', 'CSE', 'EEE', 'LLB', 'BBA'}\n"
          ]
        }
      ]
    },
    {
      "cell_type": "code",
      "source": [
        "D.add(\"CS\")\n",
        "print(D)"
      ],
      "metadata": {
        "colab": {
          "base_uri": "https://localhost:8080/"
        },
        "id": "jlaFDRGsfSt3",
        "outputId": "7676a026-0a2a-4204-8d91-1ce1554fa144"
      },
      "execution_count": 95,
      "outputs": [
        {
          "output_type": "stream",
          "name": "stdout",
          "text": [
            "{'MBA', 'CSE', 'EEE', 'LLB', 'BBA', 'CS'}\n"
          ]
        }
      ]
    },
    {
      "cell_type": "code",
      "source": [
        "\"CS\" in D"
      ],
      "metadata": {
        "colab": {
          "base_uri": "https://localhost:8080/"
        },
        "id": "a1rtElCQfYd8",
        "outputId": "d8a84b79-9081-430e-c1a7-a77e53cffc48"
      },
      "execution_count": 97,
      "outputs": [
        {
          "output_type": "execute_result",
          "data": {
            "text/plain": [
              "True"
            ]
          },
          "metadata": {},
          "execution_count": 97
        }
      ]
    },
    {
      "cell_type": "code",
      "source": [
        "D.remove(\"CS\")"
      ],
      "metadata": {
        "id": "3aRGwXnDfbHl"
      },
      "execution_count": 99,
      "outputs": []
    },
    {
      "cell_type": "code",
      "source": [
        "\"CS\" in D\n"
      ],
      "metadata": {
        "colab": {
          "base_uri": "https://localhost:8080/"
        },
        "id": "TfS2R0JMfh-j",
        "outputId": "ea7fc282-2aae-4baf-f417-4c09868c876a"
      },
      "execution_count": 101,
      "outputs": [
        {
          "output_type": "execute_result",
          "data": {
            "text/plain": [
              "False"
            ]
          },
          "metadata": {},
          "execution_count": 101
        }
      ]
    },
    {
      "cell_type": "code",
      "source": [
        "print(D)"
      ],
      "metadata": {
        "colab": {
          "base_uri": "https://localhost:8080/"
        },
        "id": "OSoMtb-CfrRv",
        "outputId": "c2ecc90e-fada-445b-802a-47fd5e5e19c6"
      },
      "execution_count": 102,
      "outputs": [
        {
          "output_type": "stream",
          "name": "stdout",
          "text": [
            "{'MBA', 'CSE', 'EEE', 'LLB', 'BBA'}\n"
          ]
        }
      ]
    },
    {
      "cell_type": "code",
      "source": [
        ""
      ],
      "metadata": {
        "id": "N5IADMCcfuAe"
      },
      "execution_count": null,
      "outputs": []
    },
    {
      "cell_type": "markdown",
      "source": [
        "Dictionary/Map"
      ],
      "metadata": {
        "id": "qBjvZVYifxlE"
      }
    },
    {
      "cell_type": "code",
      "source": [
        "d={\"jarin\":89,\"mimi\":91,\"timi\":81}\n",
        "print(d)"
      ],
      "metadata": {
        "colab": {
          "base_uri": "https://localhost:8080/"
        },
        "id": "5LB-yNpef2T1",
        "outputId": "cf7bc6a2-eb6c-4a70-d503-7a1abe3e473e"
      },
      "execution_count": 104,
      "outputs": [
        {
          "output_type": "stream",
          "name": "stdout",
          "text": [
            "{'jarin': 89, 'mimi': 91, 'timi': 81}\n"
          ]
        }
      ]
    },
    {
      "cell_type": "code",
      "source": [
        "d['timi']"
      ],
      "metadata": {
        "colab": {
          "base_uri": "https://localhost:8080/"
        },
        "id": "mc17lBAbgFE0",
        "outputId": "666305c7-c996-43b5-bc9f-4bfc9e36359b"
      },
      "execution_count": 105,
      "outputs": [
        {
          "output_type": "execute_result",
          "data": {
            "text/plain": [
              "81"
            ]
          },
          "metadata": {},
          "execution_count": 105
        }
      ]
    },
    {
      "cell_type": "code",
      "source": [
        ""
      ],
      "metadata": {
        "id": "nUMelw08gMsv"
      },
      "execution_count": null,
      "outputs": []
    }
  ]
}